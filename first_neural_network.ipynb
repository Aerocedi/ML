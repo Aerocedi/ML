{
  "nbformat": 4,
  "nbformat_minor": 0,
  "metadata": {
    "colab": {
      "name": "first nural.ipynb",
      "version": "0.3.2",
      "provenance": [],
      "collapsed_sections": [],
      "include_colab_link": true
    },
    "kernelspec": {
      "name": "python3",
      "display_name": "Python 3"
    }
  },
  "cells": [
    {
      "cell_type": "markdown",
      "metadata": {
        "id": "view-in-github",
        "colab_type": "text"
      },
      "source": [
        "<a href=\"https://colab.research.google.com/github/Aerocedi/ML/blob/master/first_neural_network.ipynb\" target=\"_parent\"><img src=\"https://colab.research.google.com/assets/colab-badge.svg\" alt=\"Open In Colab\"/></a>"
      ]
    },
    {
      "metadata": {
        "id": "jEJQkDJDqzQQ",
        "colab_type": "code",
        "colab": {}
      },
      "cell_type": "code",
      "source": [
        "import numpy as np\n",
        "\n",
        "class Network(object):\n",
        "  \n",
        "  \n",
        "  def __init__(self,input_size,lr=1,epochs=100):\n",
        "    self.W=np.zeros(input_size+1)\n",
        "    self.epochs=epochs\n",
        "    self.lr=lr\n",
        "    \n",
        "    \n",
        "  def activate(self,x):\n",
        "    return 1 if x>=0 else 0\n",
        "    \n",
        "  def predict(self,x):\n",
        "    y=self.W.T.dot(x)\n",
        "    z=self.activate(y)\n",
        "    return z\n",
        "    \n",
        "  def fit(self,X,d):\n",
        "    for _ in range(self.epochs):\n",
        "      for i in range(d.shape[0]):\n",
        "        x=np.insert(X[i],0,1)\n",
        "        h=self.predict(x)\n",
        "        err=d[i]-h\n",
        "      self.W=self.W*self.lr*err*x\n"
      ],
      "execution_count": 0,
      "outputs": []
    },
    {
      "metadata": {
        "id": "Lfe4TC1-y1AC",
        "colab_type": "code",
        "colab": {
          "base_uri": "https://localhost:8080/",
          "height": 35
        },
        "outputId": "d0be7303-4b13-4e02-8934-07f36105675f"
      },
      "cell_type": "code",
      "source": [
        "if __name__==' __main__ ':\n",
        "  X=np.array([\n",
        "      [0,0],[0,1],[1,0],[1,1]\n",
        "  ])\n",
        "  d=np.array([0,0,0,1])\n",
        "\n",
        "percept=Network(input_size=2)\n",
        "percept.fit(X,d)\n",
        "print(percept.W)\n",
        "      "
      ],
      "execution_count": 24,
      "outputs": [
        {
          "output_type": "stream",
          "text": [
            "[0. 0. 0.]\n"
          ],
          "name": "stdout"
        }
      ]
    }
  ]
}