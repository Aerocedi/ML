{
 "cells": [
  {
   "cell_type": "code",
   "execution_count": 50,
   "metadata": {},
   "outputs": [
    {
     "name": "stdout",
     "output_type": "stream",
     "text": [
      "   Unnamed: 0     TV  Radio  Newspaper  Sales\n",
      "0           1  230.1   37.8       69.2   22.1\n",
      "1           2   44.5   39.3       45.1   10.4\n",
      "2           3   17.2   45.9       69.3    9.3\n",
      "3           4  151.5   41.3       58.5   18.5\n",
      "4           5  180.8   10.8       58.4   12.9\n",
      "      TV  Radio  Newspaper  Sales\n",
      "0  230.1   37.8       69.2   22.1\n",
      "1   44.5   39.3       45.1   10.4\n",
      "2   17.2   45.9       69.3    9.3\n",
      "3  151.5   41.3       58.5   18.5\n",
      "4  180.8   10.8       58.4   12.9\n",
      "LinearRegression(copy_X=True, fit_intercept=True, n_jobs=1, normalize=False)\n",
      "[ 13.18867186]\n"
     ]
    }
   ],
   "source": [
    "#Ml challenge for predicting sales based on input\n",
    "import sklearn\n",
    "from sklearn.linear_model import LinearRegression\n",
    "import numpy as np\n",
    "import pandas as pd\n",
    "import matplotlib.pyplot as plt\n",
    "%matplotlib inline\n",
    "lr=LinearRegression(n_jobs=1,normalize=True)\n",
    "raw_data=pd.read_csv(\"../Desktop/Advertising.csv\")\n",
    "print(raw_data.head())\n",
    "new_data=raw_data.drop(\"Unnamed: 0\",axis=1)\n",
    "print(new_data.head())\n",
    "X_data=new_data[['TV','Radio','Newspaper']].values\n",
    "y_target=new_data['Sales'].values\n",
    "X_test=[[180.8,10.8,58.4]]\n",
    "print(lr.fit(X_data,y_target))\n",
    "predicted=lr.predict(X_test)\n",
    "print(predicted)\n",
    "plt.scatter(X_data,y_target,color=\"blue\")\n",
    "plt.plot(X_test,predicted, color=\"black\", linewidth=3)\n",
    "plt.show()"
   ]
  }
 ],
 "metadata": {
  "kernelspec": {
   "display_name": "Python 3",
   "language": "python",
   "name": "python3"
  },
  "language_info": {
   "codemirror_mode": {
    "name": "ipython",
    "version": 3
   },
   "file_extension": ".py",
   "mimetype": "text/x-python",
   "name": "python",
   "nbconvert_exporter": "python",
   "pygments_lexer": "ipython3",
   "version": "3.6.3"
  }
 },
 "nbformat": 4,
 "nbformat_minor": 2
}
