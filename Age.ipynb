{
 "cells": [
  {
   "cell_type": "code",
   "execution_count": 53,
   "metadata": {},
   "outputs": [
    {
     "name": "stdout",
     "output_type": "stream",
     "text": [
      "   Start   End  diff\n",
      "0   1990  1999     9\n",
      "1   1997  1999     2\n",
      "2   2000  2005     5\n",
      "3   2017  2020     3\n",
      "4   1981  2018    37\n",
      "5   1960  2018    58\n",
      "6   2000  2019    19\n",
      "7   1997  2018    21\n",
      "8   2020  2040    40\n",
      "[ 1.68706779]\n"
     ]
    },
    {
     "data": {
      "image/png": "[encoded data removed]",
      "text/plain": [
       "<matplotlib.figure.Figure at 0xaadadbc588>"
      ]
     },
     "metadata": {},
     "output_type": "display_data"
    }
   ],
   "source": [
    "import pandas as pd\n",
    "import matplotlib.pyplot as plt\n",
    "%matplotlib inline\n",
    "from sklearn.linear_model import LinearRegression\n",
    "raw_data=pd.read_csv('../Desktop/mew.csv')\n",
    "print(pd.DataFrame(raw_data))\n",
    "feature1=raw_data['Start']\n",
    "feature2=raw_data['End']\n",
    "features=raw_data[['Start','End']]\n",
    "target=raw_data['diff']\n",
    "lr=LinearRegression()\n",
    "lr.fit(features,target)\n",
    "mer=lr.predict([[1997,2001]])\n",
    "plt.xlabel('feature1/feature2')\n",
    "plt.ylabel('target')\n",
    "plt.scatter(feature1,target)\n",
    "plt.scatter(feature2,target,color='red')\n",
    "print(mer)"
   ]
  },
  {
   "cell_type": "raw",
   "metadata": {},
   "source": []
  }
 ],
 "metadata": {
  "kernelspec": {
   "display_name": "Python 3",
   "language": "python",
   "name": "python3"
  },
  "language_info": {
   "codemirror_mode": {
    "name": "ipython",
    "version": 3
   },
   "file_extension": ".py",
   "mimetype": "text/x-python",
   "name": "python",
   "nbconvert_exporter": "python",
   "pygments_lexer": "ipython3",
   "version": "3.6.3"
  }
 },
 "nbformat": 4,
 "nbformat_minor": 2
}
